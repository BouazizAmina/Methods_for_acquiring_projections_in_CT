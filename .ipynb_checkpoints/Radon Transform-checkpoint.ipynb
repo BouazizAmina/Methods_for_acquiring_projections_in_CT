{
 "cells": [
  {
   "cell_type": "markdown",
   "id": "c05f2b2a",
   "metadata": {},
   "source": [
    "## Radon Transform"
   ]
  },
  {
   "cell_type": "markdown",
   "id": "35be1c80",
   "metadata": {},
   "source": [
    "$R(\\rho, \\theta) = \\int_{-\\infty}^{+\\infty} \\int_{-\\infty}^{+\\infty} I(x, y) \\, \\delta(x \\cos \\theta + y \\sin \\theta - \\rho) \\, dx \\, dy$"
   ]
  },
  {
   "cell_type": "markdown",
   "id": "de5f9376",
   "metadata": {},
   "source": [
    "- $I(x, y)$ is the image being transformed.\n",
    "- $\\delta$ is the Dirac distribution.\n",
    "- $\\rho$ is the distance from the origin to the line along which the function \\( I \\) is integrated.\n",
    "- $\\theta$ is the angle between the x-axis and the normal to the line."
   ]
  },
  {
   "cell_type": "markdown",
   "id": "31ff39be",
   "metadata": {},
   "source": [
    "##### Load the necessary modules"
   ]
  },
  {
   "cell_type": "code",
   "execution_count": 1,
   "id": "3fb46245",
   "metadata": {},
   "outputs": [],
   "source": [
    "import numpy as np\n",
    "from skimage.transform import rotate as skimage_rotate"
   ]
  },
  {
   "cell_type": "markdown",
   "id": "5cd230f7",
   "metadata": {},
   "source": [
    "##### Define Radon Transform"
   ]
  },
  {
   "cell_type": "code",
   "execution_count": 2,
   "id": "380f4533",
   "metadata": {},
   "outputs": [],
   "source": [
    "def RT(img, nb_angles):\n",
    "    if img.ndim != 2:\n",
    "        raise ValueError('The input image must be 2-D')\n",
    "        \n",
    "    thetas = np.linspace(0, 180, nb_angles, endpoint=False)\n",
    "    rotations = np.array([skimage_rotate(img, -1*theta) for theta in thetas])\n",
    "    sinogram = np.array([rotation.sum(axis=0) for rotation in rotations]).T\n",
    "    \n",
    "    # Suivre l'exécution\n",
    "    progress = (k + 1) / nb_angles * 100\n",
    "    print(f'\\rRT progress: ({progress:.2f}%)', end='')\n",
    "\n",
    "    return sinogram"
   ]
  }
 ],
 "metadata": {
  "kernelspec": {
   "display_name": "Python 3 (ipykernel)",
   "language": "python",
   "name": "python3"
  },
  "language_info": {
   "codemirror_mode": {
    "name": "ipython",
    "version": 3
   },
   "file_extension": ".py",
   "mimetype": "text/x-python",
   "name": "python",
   "nbconvert_exporter": "python",
   "pygments_lexer": "ipython3",
   "version": "3.9.13"
  }
 },
 "nbformat": 4,
 "nbformat_minor": 5
}
