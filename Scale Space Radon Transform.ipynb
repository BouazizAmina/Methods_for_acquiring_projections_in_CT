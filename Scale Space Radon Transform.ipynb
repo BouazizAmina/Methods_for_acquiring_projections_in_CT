{
 "cells": [
  {
   "cell_type": "markdown",
   "id": "e2dfda4a",
   "metadata": {},
   "source": [
    "## Scale Space Radon Transform\n",
    "[SSRT 2021](https://ietresearch.onlinelibrary.wiley.com/doi/full/10.1049/ipr2.12180)"
   ]
  },
  {
   "cell_type": "markdown",
   "id": "b200accb",
   "metadata": {},
   "source": [
    "$S(\\rho, \\theta, \\sigma) = \\frac{1}{\\sqrt{2 \\pi} \\sigma} \\int_{x}\\int_{y} I(x,y) e^{-\\frac{(x \\cos{\\theta} + y \\sin{\\theta} -\\rho)^2}{2\\sigma^2}} d_x d_y$"
   ]
  },
  {
   "cell_type": "markdown",
   "id": "21e23961",
   "metadata": {},
   "source": [
    "- $I(x, y)$ is the image being transformed.\n",
    "- $\\sigma$ is the standard deviation of the gaussian kernel.\n",
    "- $\\rho$ is the distance from the origin to the line along which the function \\( I \\) is integrated.\n",
    "- $\\theta$ is the angle between the x-axis and the normal to the line."
   ]
  },
  {
   "cell_type": "markdown",
   "id": "ecb4fa34",
   "metadata": {},
   "source": [
    "##### Load the necessary modules"
   ]
  },
  {
   "cell_type": "code",
   "execution_count": null,
   "id": "d912deea",
   "metadata": {},
   "outputs": [],
   "source": [
    "import numpy as np\n",
    "from scipy.ndimage import rotate"
   ]
  },
  {
   "cell_type": "markdown",
   "id": "d03af0f8",
   "metadata": {},
   "source": [
    "##### Define the Scale Space Radon Transform"
   ]
  },
  {
   "cell_type": "code",
   "execution_count": null,
   "id": "c46f701e",
   "metadata": {},
   "outputs": [],
   "source": [
    "def SSRT(img, nb_angles, sigma):\n",
    "    \n",
    "    if img.ndim != 2:\n",
    "        raise ValueError('The input image must be 2-D')\n",
    "    \n",
    "    # Define parameters of the gaussien function\n",
    "    alpha = 1 / (np.sqrt(2 * np.pi) * sigma)\n",
    "    beta = 2 * sigma ** 2\n",
    "\n",
    "    size_i, size_j = img.shape\n",
    "    thetas = np.linspace(0, 180, nb_angles, endpoint=False)\n",
    "    \n",
    "    X = np.arange(1, size_j + 1)\n",
    "    SSR = np.zeros((nb_angles, size_i, size_j))\n",
    "    \n",
    "    for k in range(nb_angles):\n",
    "        # Rotate the image\n",
    "        im_rot = rotate(img, -thetas[k], reshape=False)\n",
    "        for rho in range(size_i):\n",
    "            # Applying a Gaussian weighting function column-wise\n",
    "            G = alpha * np.exp(-(X - rho) ** 2 / beta) #G\n",
    "            # Normalizes the weighting function G so that its sum is equal to 1\n",
    "            G = G / np.sum(G)\n",
    "            SSR[k, rho, :] = np.dot(im_rot, G)\n",
    "        \n",
    "        # Suivre l'exécution\n",
    "        progress = (k + 1) / nb_angles * 100\n",
    "        print(f'\\rSSRT progress: ({progress:.2f}%)', end='')\n",
    " \n",
    "    ssrt = np.transpose(np.sum(SSR, axis=2))\n",
    "    return ssrt, G"
   ]
  }
 ],
 "metadata": {
  "kernelspec": {
   "display_name": "Python 3 (ipykernel)",
   "language": "python",
   "name": "python3"
  },
  "language_info": {
   "codemirror_mode": {
    "name": "ipython",
    "version": 3
   },
   "file_extension": ".py",
   "mimetype": "text/x-python",
   "name": "python",
   "nbconvert_exporter": "python",
   "pygments_lexer": "ipython3",
   "version": "3.9.13"
  }
 },
 "nbformat": 4,
 "nbformat_minor": 5
}
